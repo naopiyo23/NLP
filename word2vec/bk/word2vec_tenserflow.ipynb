{
 "cells": [
  {
   "cell_type": "markdown",
   "metadata": {},
   "source": [
    "mecabで分かち書き（$ mecab -Owakati akutagawa.txt -o data.txt）"
   ]
  },
  {
   "cell_type": "code",
   "execution_count": 24,
   "metadata": {},
   "outputs": [],
   "source": [
    "from gensim.models import word2vec\n",
    "\n",
    "corpus = word2vec.Text8Corpus('data.txt')\n",
    "model = word2vec.Word2Vec(corpus, size=200, min_count=5, workers=6)\n",
    "model.save('data_model')"
   ]
  },
  {
   "cell_type": "code",
   "execution_count": 27,
   "metadata": {},
   "outputs": [],
   "source": [
    "def save_embedding_projector_files(vector_file, metadata_file):\n",
    "    with open(vector_file, 'w', encoding='utf-8') as f, \\\n",
    "         open(metadata_file, 'w', encoding='utf-8') as g:\n",
    "\n",
    "        # metadata file needs header ←いらない？\n",
    "        # g.write('Word\\n')\n",
    "\n",
    "        for word in model.wv.vocab.keys():\n",
    "            embedding = model.wv[word]\n",
    "\n",
    "            # Save vector TSV file\n",
    "            f.write('\\t'.join([('%f' % x) for x in embedding]) + '\\n')\n",
    "\n",
    "            # Save metadata TSV file\n",
    "            g.write(word + '\\n')"
   ]
  },
  {
   "cell_type": "code",
   "execution_count": 28,
   "metadata": {},
   "outputs": [],
   "source": [
    "vector_file = 'vector.tsv'\n",
    "metadata_file = 'metadata.tsv'\n",
    "save_embedding_projector_files(vector_file, metadata_file)"
   ]
  }
 ],
 "metadata": {
  "kernelspec": {
   "display_name": "Python 3",
   "language": "python",
   "name": "python3"
  }
 },
 "nbformat": 4,
 "nbformat_minor": 2
}
