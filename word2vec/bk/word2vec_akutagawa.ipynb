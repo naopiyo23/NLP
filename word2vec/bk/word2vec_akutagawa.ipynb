{
 "cells": [
  {
   "cell_type": "markdown",
   "metadata": {},
   "source": [
    "# word2vecの確認\n",
    "- 青空文庫から芥川龍之介の『羅生門』『蜘蛛の糸』『杜子春』『鼻』をダウンロード\n",
    "- ルビを削除し、mecabで分かち書き（$ mecab -Owakati text.txt -o data.txt）\n",
    "- word2vecにてモデル作成"
   ]
  },
  {
   "cell_type": "code",
   "execution_count": 1,
   "metadata": {},
   "outputs": [
    {
     "name": "stderr",
     "output_type": "stream",
     "text": [
      "C:\\Users\\naofumi_honda\\Anaconda3\\lib\\site-packages\\gensim-3.4.0-py3.6-win-amd64.egg\\gensim\\utils.py:1197: UserWarning: detected Windows; aliasing chunkize to chunkize_serial\n",
      "  warnings.warn(\"detected Windows; aliasing chunkize to chunkize_serial\")\n"
     ]
    }
   ],
   "source": [
    "from gensim.models import word2vec\n",
    "data = word2vec.Text8Corpus('data.txt')\n",
    "\n",
    "# size: 圧縮次元数\n",
    "# min_count: 出現頻度の低いものをカットする\n",
    "# window: 前後の単語を拾う際の窓の広さを決める\n",
    "# iter: 機械学習の繰り返し回数(デフォルト:5)十分学習できていないときにこの値を調整する\n",
    "# model.wv.most_similarの結果が1に近いものばかりで、model.dict['wv']のベクトル値が小さい値ばかりの \n",
    "# ときは、学習回数が少ないと考えられます。\n",
    "# その場合、iterの値を大きくして、再度学習を行います。\n",
    "\n",
    "# 事前準備したword_listを使ってWord2Vecの学習実施\n",
    "model = word2vec.Word2Vec(data, size=200, min_count=1, window=15, iter=100)"
   ]
  },
  {
   "cell_type": "code",
   "execution_count": 2,
   "metadata": {},
   "outputs": [
    {
     "name": "stdout",
     "output_type": "stream",
     "text": [
      "愛想 0.8656812310218811\n",
      "尽き 0.8500013947486877\n",
      "なれる 0.8290988802909851\n",
      "言っ 0.8280370235443115\n",
      "命 0.8200469017028809\n",
      "しろ 0.8187412023544312\n",
      "結構 0.8045749664306641\n",
      "返答 0.8018267750740051\n",
      "まい 0.8004634380340576\n",
      "好し 0.78334641456604\n"
     ]
    }
   ],
   "source": [
    "out=model.wv.most_similar(positive=[u'人間'])\n",
    "for x in out:\n",
    "    print(x[0],x[1])"
   ]
  },
  {
   "cell_type": "code",
   "execution_count": 3,
   "metadata": {},
   "outputs": [
    {
     "name": "stdout",
     "output_type": "stream",
     "text": [
      "紛れ 0.8739453554153442\n",
      "） 0.8706045150756836\n",
      "探し 0.8583004474639893\n",
      "王様 0.8541343212127686\n",
      "まっ黒 0.8492112159729004\n",
      "袍 0.8459523916244507\n",
      "彼 0.8427526354789734\n",
      "でしょ 0.8342291712760925\n",
      "開き 0.829045295715332\n",
      "跨っ 0.8274900913238525\n"
     ]
    }
   ],
   "source": [
    "out=model.wv.most_similar(positive=[u'金'])\n",
    "for x in out:\n",
    "    print(x[0],x[1])"
   ]
  },
  {
   "cell_type": "code",
   "execution_count": 4,
   "metadata": {},
   "outputs": [
    {
     "name": "stdout",
     "output_type": "stream",
     "text": [
      "健気 0.8863915205001831\n",
      "立派 0.876372218132019\n",
      "決心 0.8646916747093201\n",
      "尽き 0.8480759859085083\n",
      "志 0.8460443019866943\n",
      "薄情 0.8400819897651672\n",
      "財産 0.8314538598060608\n",
      "つけこん 0.8227140307426453\n",
      "留守 0.822485089302063\n",
      "有難い 0.8214669227600098\n"
     ]
    }
   ],
   "source": [
    "out=model.wv.most_similar(positive=[u'人間',u'金'])\n",
    "for x in out:\n",
    "    print(x[0],x[1])"
   ]
  },
  {
   "cell_type": "code",
   "execution_count": 6,
   "metadata": {},
   "outputs": [
    {
     "name": "stdout",
     "output_type": "stream",
     "text": [
      "追い出さ 0.8284525275230408\n",
      "ぬ 0.8150688409805298\n",
      "いい 0.7904676795005798\n",
      "ござら 0.7814412117004395\n",
      "振っ 0.7577289342880249\n",
      "痛う 0.7452337145805359\n",
      "痛く 0.737038254737854\n",
      "踏め 0.733517050743103\n",
      "じゃが 0.7292219400405884\n",
      "大目 0.7143011093139648\n"
     ]
    }
   ],
   "source": [
    "out=model.wv.most_similar(positive=[u'人間'],negative=[u'金'])\n",
    "for x in out:\n",
    "    print(x[0],x[1])"
   ]
  }
 ],
 "metadata": {
  "kernelspec": {
   "display_name": "Python 3",
   "language": "python",
   "name": "python3"
  },
  "language_info": {
   "codemirror_mode": {
    "name": "ipython",
    "version": 3
   },
   "file_extension": ".py",
   "mimetype": "text/x-python",
   "name": "python",
   "nbconvert_exporter": "python",
   "pygments_lexer": "ipython3",
   "version": "3.6.4"
  }
 },
 "nbformat": 4,
 "nbformat_minor": 2
}
